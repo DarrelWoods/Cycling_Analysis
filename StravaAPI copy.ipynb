{
 "metadata": {
  "language_info": {
   "codemirror_mode": {
    "name": "ipython",
    "version": 3
   },
   "file_extension": ".py",
   "mimetype": "text/x-python",
   "name": "python",
   "nbconvert_exporter": "python",
   "pygments_lexer": "ipython3",
   "version": "3.9.1"
  },
  "orig_nbformat": 4,
  "kernelspec": {
   "name": "python3",
   "display_name": "Python 3.9.1 64-bit ('base': conda)"
  },
  "interpreter": {
   "hash": "60ee789cc87cd4dbe869245af1001b9644921b243e55e445660bb025fc237d47"
  }
 },
 "nbformat": 4,
 "nbformat_minor": 2,
 "cells": [
  {
   "source": [
    "# Library import"
   ],
   "cell_type": "markdown",
   "metadata": {}
  },
  {
   "cell_type": "code",
   "execution_count": 1,
   "metadata": {},
   "outputs": [],
   "source": [
    "import requests\n",
    "import urllib3\n",
    "urllib3.disable_warnings(urllib3.exceptions.InsecureRequestWarning)"
   ]
  },
  {
   "cell_type": "code",
   "execution_count": 2,
   "metadata": {},
   "outputs": [],
   "source": [
    "import pandas as pd\n",
    "from pandas.io.json import json_normalize\n",
    "import matplotlib.pyplot as plt\n",
    "from tqdm import tqdm\n",
    "import time\n",
    "import random\n",
    "from datetime import datetime as dt"
   ]
  },
  {
   "source": [
    "# Activity import via Strava API"
   ],
   "cell_type": "markdown",
   "metadata": {}
  },
  {
   "source": [
    "#Gets Strava ride activity data from our API request\n",
    "auth_url = \"https://www.strava.com/oauth/token\"\n",
    "activites_url = \"https://www.strava.com/api/v3/athlete/activities\"\n",
    "\n",
    "payload = {\n",
    "    'client_id': \"xxxxx\",\n",
    "    'client_secret': 'xxxxxx',\n",
    "    'refresh_token': 'xxxxxxx',\n",
    "    'grant_type': \"refresh_token\",\n",
    "    'f': 'json'\n",
    "}\n",
    "\n",
    "print(\"Requesting Token...\\n\")\n",
    "res = requests.post(auth_url, data=payload, verify=False)\n",
    "access_token = res.json()['access_token']\n",
    "print(\"Access Token = {}\\n\".format(access_token))\n",
    "\n",
    "print(\"Requesting pages (200 activities per full page)...\")\n",
    "activities_df = pd.DataFrame()\n",
    "page = 1\n",
    "page_non_empty = True\n",
    "while page_non_empty:\n",
    "    header = {'Authorization': 'Bearer ' + access_token}\n",
    "    param = {'per_page': 200, 'page': page}\n",
    "    my_activities = requests.get(activites_url, headers=header, params=param).json()\n",
    "    activities_df = activities_df.append(my_activities, ignore_index=True)\n",
    "    page_non_empty = bool(my_activities)\n",
    "    print(page)\n",
    "    page += 1\n",
    "\n",
    "print(\"\\n\", len(activities_df), \"activities downloaded\")"
   ],
   "cell_type": "code",
   "metadata": {},
   "execution_count": null,
   "outputs": []
  },
  {
   "source": [
    "print(\"Requesting Token...\\n\")\n",
    "res = requests.post(auth_url, data=payload, verify=False) # auth_url & payload referenced in code already above\n",
    "access_token = res.json()['access_token']\n",
    "header = {'Authorization': 'Bearer ' + access_token}\n",
    "print(\"Access Token = {}\\n\".format(access_token))\n",
    "\n",
    "count = 0\n",
    "print(\"Calculating time to get....\\n\")\n",
    "for index, row in activities_df.iterrows():\n",
    "    if row['type'] == 'Ride':\n",
    "        count += 1\n",
    "print(count * 8 / 60, \" minutes to obtain data\")\n",
    "\n",
    "print(\"Getting trails for each activity\")\n",
    "activities_df['trails'] = None\n",
    "for index, row in tqdm(activities_df.iterrows(), total=activities_df.shape[0]):\n",
    "    get_activity_url = \"https://www.strava.com/api/v3/activities/{}\".format(row['id'])\n",
    "    if row['type'] == 'Ride':\n",
    "        activity_df = pd.DataFrame()\n",
    "        try:\n",
    "            my_activity = requests.get(get_activity_url, headers=header).json() \n",
    "            activity_df = pd.json_normalize(my_activity, record_path=['segment_efforts'])\n",
    "            if len(activity_df.index) > 0:\n",
    "                trail_list = activity_df['name'].tolist()\n",
    "                activities_df.at[index, 'trails'] = trail_list\n",
    "            time.sleep(random.randint(7, 9))\n",
    "        except requests.exception.RequestException as e:\n",
    "            raise SystemExit(e)"
   ],
   "cell_type": "code",
   "metadata": {},
   "execution_count": null,
   "outputs": []
  },
  {
   "source": [
    "activities_df.head(5)"
   ],
   "cell_type": "code",
   "metadata": {},
   "execution_count": null,
   "outputs": []
  },
  {
   "source": [
    "# Data Cleaning"
   ],
   "cell_type": "markdown",
   "metadata": {}
  },
  {
   "source": [
    "## Checking data"
   ],
   "cell_type": "markdown",
   "metadata": {}
  },
  {
   "source": [
    "activities_df.columns"
   ],
   "cell_type": "code",
   "metadata": {},
   "execution_count": null,
   "outputs": []
  },
  {
   "source": [
    "activities_df[['average_speed', 'max_speed']].head(5)"
   ],
   "cell_type": "code",
   "metadata": {},
   "execution_count": null,
   "outputs": []
  },
  {
   "source": [
    "activities_df['average_cadence'].head(5)"
   ],
   "cell_type": "code",
   "metadata": {},
   "execution_count": null,
   "outputs": []
  },
  {
   "source": [
    "activities_df[['average_watts', 'weighted_average_watts', 'kilojoules', 'device_watts', 'max_watts']].head(5)"
   ],
   "cell_type": "code",
   "metadata": {},
   "execution_count": null,
   "outputs": []
  },
  {
   "source": [
    "activities_df[['total_elevation_gain', 'elev_high', 'elev_low']].head(5)"
   ],
   "cell_type": "code",
   "metadata": {},
   "execution_count": null,
   "outputs": []
  },
  {
   "source": [
    "## Adding columns based on manipulated data"
   ],
   "cell_type": "markdown",
   "metadata": {}
  },
  {
   "source": [
    "#Converting distance from meters to miles\n",
    "activities_df['distance_miles'] = activities_df['distance'] / 1609.344\n",
    "#Converting elevation from meters to feet\n",
    "activities_df['elevation_gain_ft'] = activities_df['total_elevation_gain'] * 3.28084\n",
    "activities_df['max_elev_ft'] = activities_df['elev_high'] * 3.28084\n",
    "activities_df['min_elev_ft'] = activities_df['elev_low'] * 3.28084\n",
    "#Converting time from seconds to hours\n",
    "activities_df['moving_time'] = activities_df['moving_time'] * 0.0002777778\n",
    "activities_df['elapsed_time'] = activities_df['elapsed_time'] * 0.0002777778\n",
    "#Converting speed from meters/second to mph\n",
    "activities_df['average_speed_mph'] = activities_df['average_speed'] * 2.236936\n",
    "activities_df['max_speed_mph'] = activities_df['max_speed'] * 2.236936\n",
    "\n",
    "activities_df.head(5)"
   ],
   "cell_type": "code",
   "metadata": {},
   "execution_count": null,
   "outputs": []
  },
  {
   "source": [
    "## Date Manipulation"
   ],
   "cell_type": "markdown",
   "metadata": {}
  },
  {
   "source": [
    "activities_df[['start_date', 'start_date_local', 'timezone', 'utc_offset']].head(5)"
   ],
   "cell_type": "code",
   "metadata": {},
   "execution_count": null,
   "outputs": []
  },
  {
   "source": [
    "#New date only column\n",
    "activities_df['start_date_only'] = activities_df['start_date_local'].str[0:10]\n",
    "activities_df.head(5)"
   ],
   "cell_type": "code",
   "metadata": {},
   "execution_count": null,
   "outputs": []
  },
  {
   "source": [
    "## Creating new dataframe for \"Rides\" and \"Virtual Rides\" only"
   ],
   "cell_type": "markdown",
   "metadata": {}
  },
  {
   "source": [
    "activities_df.head()"
   ],
   "cell_type": "code",
   "metadata": {},
   "execution_count": null,
   "outputs": []
  },
  {
   "source": [
    "activities_df['type'].unique()"
   ],
   "cell_type": "code",
   "metadata": {},
   "execution_count": null,
   "outputs": []
  },
  {
   "cell_type": "code",
   "execution_count": 73,
   "metadata": {},
   "outputs": [],
   "source": [
    "#Create list of values I want to drop\n",
    "drop_values = ['Workout', 'Run', 'Walk', 'RockClimbing']"
   ]
  },
  {
   "source": [
    "#Create new dataframe by passing in the list of values and setting them equal to False\n",
    "activities_df_rides = activities_df[activities_df.type.isin(drop_values) == False]\n",
    "activities_df_rides['type'].unique()"
   ],
   "cell_type": "code",
   "metadata": {},
   "execution_count": null,
   "outputs": []
  },
  {
   "source": [
    "## Temp C to F"
   ],
   "cell_type": "markdown",
   "metadata": {}
  },
  {
   "source": [
    "activities_df_rides['average_temp_F'] = activities_df['average_temp'] * 1.8 + 32\n",
    "activities_df_rides.head()"
   ],
   "cell_type": "code",
   "metadata": {},
   "execution_count": null,
   "outputs": []
  },
  {
   "source": [
    "activities_df_rides.columns"
   ],
   "cell_type": "code",
   "metadata": {},
   "execution_count": null,
   "outputs": []
  },
  {
   "source": [
    "activities_df_rides = activities_df_rides.drop(columns=['resource_state', 'athlete', 'start_date', 'start_date_local', 'timezone', 'utc_offset', 'location_city', 'location_state', 'location_country', 'start_latitude', 'start_longitude', 'photo_count', 'trainer', 'commute', 'manual', 'private', 'visibility', 'flagged', 'gear_id', 'from_accepted_tag', 'workout_type', 'has_kudoed', 'total_photo_count', 'device_watts', 'has_heartrate', 'heartrate_opt_out', 'display_hide_heartrate_option',])"
   ],
   "cell_type": "code",
   "metadata": {},
   "execution_count": null,
   "outputs": []
  },
  {
   "source": [
    "activities_df_rides = activities_df_rides.drop(columns=['id', 'external_id', 'upload_id','upload_id_str'])"
   ],
   "cell_type": "code",
   "metadata": {},
   "execution_count": null,
   "outputs": []
  },
  {
   "source": [
    "activities_df_rides.columns"
   ],
   "cell_type": "code",
   "metadata": {},
   "execution_count": null,
   "outputs": []
  },
  {
   "source": [
    "# Export to csv"
   ],
   "cell_type": "markdown",
   "metadata": {}
  },
  {
   "cell_type": "code",
   "execution_count": 109,
   "metadata": {},
   "outputs": [],
   "source": [
    "activities_df_rides.to_csv('ride_data.csv', index = False) #creating new csv file with the \"Ride\" data. Naming it and getting rid of the index column."
   ]
  },
  {
   "source": [
    "# Segments"
   ],
   "cell_type": "markdown",
   "metadata": {}
  },
  {
   "source": [
    "for trail in activities_df['trails'].head(2):\n",
    "    print(trail)"
   ],
   "cell_type": "code",
   "metadata": {},
   "execution_count": null,
   "outputs": []
  }
 ]
}